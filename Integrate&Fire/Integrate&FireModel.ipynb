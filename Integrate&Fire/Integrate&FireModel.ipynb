{
 "cells": [
  {
   "cell_type": "markdown",
   "metadata": {},
   "source": [
    "# Leaky Integrate-and-Fire Neuron\n",
    "\n",
    "The integrate-and-fire neuron was first envisioned by the French neuroscientist [Louis Lapicque](https://en.wikipedia.org/wiki/Louis_Lapicque) in 1907. Although the neuron theory was already stablished some years before, the nature of the action potentials was still unknown [[1]](#References). Therefore, the integrate-and-fire model tries the reproduce the electrical activity of a neuron, disregarding the mechanisms underlying it. In this notebook, we will deal with a modification of the this model: the leaky integrate-and-fire neuron. \n",
    "\n",
    "A neuron can be modeled as an RC circuit. The figure below shows the analogy between a neuron and a RC circuit. The main idea behind the model is the following: the cell membrane separates both the external and internal environment of a cell. The internal environment –named [cytosol](https://en.wikipedia.org/wiki/Cytosol)– is rich in negative charged molecules; the external environment is however, majoritarily compounded by positive charged molecules. Hence, the cell membrane that divides both environments functions as a insulator. If an external current $I$ is applied to the neuron, this will charge the membrane. This current can be understood as the entrance of positive ions towards the cytosol. Whenever the current is droped, the cell membrane will slowly return to its original charge. Therefore, the cell membrane acts similarly to a condensor. These properties allow the neuron to be represented as a RC circuit.\n",
    "\n",
    "<p align=\"center\">\n",
    "    <img width=\"600\" height=\"600\" src=\"images/Integrate&Fire.pdf\">\n",
    "</p>\n",
    "\n",
    "The cell membrane can be represented by a first order differential equation (ODE) [[2]](#References):  \n",
    "\n",
    "<br/>\n",
    "$$\n",
    "\\begin{equation}\n",
    "I(t) = \\frac{V(t) - V_R}{R} + C \\frac{d V}{dt},\n",
    "\\end{equation}\n",
    "$$\n",
    "<br/>\n",
    "\n",
    "where $V(t)$ is the internal potential over time, $V_R$ the resting membrane potential, $I(t)$ the injected current over time, $R$ the resistance of the membrane and $C$ its capacitance. We will assume that the current are is kept constant, $I$. Bearing this in mind, we can rearrange the equation:\n",
    "\n",
    "<br/>\n",
    "$$\n",
    "\\begin{equation}\n",
    "\\tau\\frac{dV}{dt} = - (V(t) - V_R) + RI,\n",
    "\\end{equation}\n",
    "$$\n",
    "<br/>\n",
    "\n",
    "where $\\tau = RC$. This ODE can be solved by separation of variables for $V(t_0) = V_R$:\n",
    "\n",
    "<br/>\n",
    "$$\n",
    "\\begin{equation}\n",
    "\\int^{V(t)}_{V_R} \\frac{1}{-(V-V_R)+RI} = \\int^{t}_{0} \\frac{1}{\\tau}dt \\\\\n",
    "\\end{equation}\n",
    "$$\n",
    "<br/>\n",
    "$$\n",
    "\\begin{equation}\n",
    "-\\Big [\\log |-(V-V_R)+RI| \\Big ]^{V(t)}_{V_R} = \\frac{t}{\\tau} \\\\\n",
    "\\end{equation}\n",
    "$$\n",
    "<br/>\n",
    "$$\n",
    "\\begin{equation}\n",
    "\\log{\\frac{-(V-V_R)+RI}{RI}} = \\frac{t}{\\tau} \\\\\n",
    "\\end{equation}\n",
    "$$\n",
    "<br/>\n",
    "$$\n",
    "\\begin{equation}\n",
    "\\boxed{V(t) = V_R + RI(1 - e^{-\\frac{t}{\\tau}})}\n",
    "\\end{equation}\n",
    "$$"
   ]
  },
  {
   "cell_type": "markdown",
   "metadata": {},
   "source": [
    "Finally we have to introduce the firing. Whenever the potential of the cell reaches a given threshold $\\theta$, a spike will be produced. Consequently, the potential of the cell will decrease back its resting potential. Mathematically, we can describe this behavior as a piecewise function:\n",
    "\n",
    "<br/>\n",
    "$$\n",
    "V(t) = \n",
    "\\begin{cases}\n",
    "0, &\\quad\\text{if } V(t) > \\theta \\\\\n",
    "V(t) = V_R + RI(1 - e^{-\\frac{t}{\\tau}}), &\\quad\\text{otherwise}\n",
    "\\end{cases}\n",
    "$$"
   ]
  },
  {
   "cell_type": "markdown",
   "metadata": {},
   "source": [
    "Note that $t$ is also reseted after a spike is produced."
   ]
  },
  {
   "cell_type": "code",
   "execution_count": 1,
   "metadata": {
    "scrolled": false
   },
   "outputs": [
    {
     "ename": "ModuleNotFoundError",
     "evalue": "No module named 'NeuralModels'",
     "output_type": "error",
     "traceback": [
      "\u001b[0;31m---------------------------------------------------------------------------\u001b[0m",
      "\u001b[0;31mModuleNotFoundError\u001b[0m                       Traceback (most recent call last)",
      "\u001b[0;32m<ipython-input-1-23a2539ad4a6>\u001b[0m in \u001b[0;36m<module>\u001b[0;34m\u001b[0m\n\u001b[1;32m      1\u001b[0m \u001b[0;31m# Import the module with the leaky integrate-and-fire model\u001b[0m\u001b[0;34m\u001b[0m\u001b[0;34m\u001b[0m\u001b[0;34m\u001b[0m\u001b[0m\n\u001b[0;32m----> 2\u001b[0;31m \u001b[0;32mfrom\u001b[0m \u001b[0mNeuralModels\u001b[0m \u001b[0;32mimport\u001b[0m \u001b[0mLeakyIntegrateAndFire\u001b[0m\u001b[0;34m\u001b[0m\u001b[0;34m\u001b[0m\u001b[0m\n\u001b[0m\u001b[1;32m      3\u001b[0m \u001b[0;34m\u001b[0m\u001b[0m\n\u001b[1;32m      4\u001b[0m \u001b[0;31m# Set the parameters and create the model\u001b[0m\u001b[0;34m\u001b[0m\u001b[0;34m\u001b[0m\u001b[0;34m\u001b[0m\u001b[0m\n\u001b[1;32m      5\u001b[0m params = {\n",
      "\u001b[0;31mModuleNotFoundError\u001b[0m: No module named 'NeuralModels'"
     ]
    }
   ],
   "source": [
    "# Import the module with the leaky integrate-and-fire model\n",
    "from NeuralModels import LeakyIntegrateAndFire\n",
    "\n",
    "# Set the parameters and create the model\n",
    "params = {\n",
    "    \"VR\": -70,\n",
    "    \"R\": 100,\n",
    "    \"C\": 0.3,\n",
    "    \"I\": 0.3,\n",
    "    \"theta\": -55,\n",
    "    \"dt\": 0.01,\n",
    "    \"t\": 100\n",
    "}\n",
    "model = LeakyIntegrateAndFire(**params)\n",
    "\n",
    "# This is equivalent to:\n",
    "# model = LeakyIntegrateAndFire(VR=-70, I=0.2, R=100, C=0.1, dt=0.01, t=100, threshodl=-55)\n",
    "\n",
    "# Run the model\n",
    "model.run()\n",
    "\n",
    "# Plot the results\n",
    "model.plot()"
   ]
  },
  {
   "cell_type": "markdown",
   "metadata": {},
   "source": [
    "The plot shows how the voltage of the cell changes as a function of time. The red dashed line corresponds to $\\theta$. For $t = 0$, the neuron is at its resting potential. At $t>0$ the current is applied. The membrane potential increases until reaching the threshold. Afterward, the neuron spikes and its potential decreases back to $V_R$ (according to the equation above).\n",
    "\n",
    "In addition, it will be interesting to compute the period and spiking frequency given a constant intensity. Analitically, it will be the time when $V(t) = \\theta$:\n",
    "\n",
    "<br/>\n",
    "$$\n",
    "\\theta = V_R + RI(1 - e^{-\\frac{T}{\\tau}}),\n",
    "$$\n",
    "<br/>\n",
    "\n",
    "where $T$ is the spiking period. By isolating $T$:  \n",
    "\n",
    "<br/>\n",
    "$$\n",
    "T = - \\tau \\log{\\Big |1 - \\frac{\\theta - V_R}{RI} \\Big|}\n",
    "$$\n",
    "<br/>\n",
    "\n",
    "The frequency is by definition:  \n",
    "\n",
    "<br/>\n",
    "$$\n",
    "f = \\frac{1}{T}\n",
    "$$\n",
    "<br/>\n",
    "\n",
    "\n",
    "The model calculates the period and frequency when defining the parameters of the model. By printing the model we can access to this information:"
   ]
  },
  {
   "cell_type": "code",
   "execution_count": 2,
   "metadata": {},
   "outputs": [
    {
     "name": "stdout",
     "output_type": "stream",
     "text": [
      "LeakyIntegrateAndFire(VR=-70, R=100, C=0.3, tau=30.0, I=0.3, theta=-55, dt=0.01, t=100, T=20.794, f=0.048)\n"
     ]
    }
   ],
   "source": [
    "print(model)"
   ]
  },
  {
   "cell_type": "markdown",
   "metadata": {},
   "source": [
    "For the example above, the period $T = 20.784$ implies the neuron fires approximately each 21ms. If we want to observe a determined number of $N$ spikes, we can calculate the time of simulation needed as follows:  \n",
    "  \n",
    "<br/>\n",
    "$$\n",
    "t = NT = \\frac{N}{f}\n",
    "$$\n",
    "<br/>"
   ]
  },
  {
   "cell_type": "markdown",
   "metadata": {},
   "source": [
    "For example, if we want to observe $N = 10$ spikes, we have to run the simulation for approximately 208 ms:"
   ]
  },
  {
   "cell_type": "code",
   "execution_count": 3,
   "metadata": {},
   "outputs": [
    {
     "data": {
      "image/png": "[encoded data removed]",
      "text/plain": [
       "<Figure size 576x360 with 1 Axes>"
      ]
     },
     "metadata": {
      "needs_background": "light"
     },
     "output_type": "display_data"
    }
   ],
   "source": [
    "# Change the parameter time\n",
    "model.t = 208\n",
    "\n",
    "# Run and plot the model\n",
    "model.run()\n",
    "model.plot()"
   ]
  },
  {
   "cell_type": "markdown",
   "metadata": {},
   "source": [
    "# References\n",
    "1. [Lapicque's introduction of the integrate-and-fire model neuron](https://web.archive.org/web/20070613230629/http://neurotheory.columbia.edu/~larry/AbbottBrResBul99.pdf)\n",
    "2. [Neuronal Dynamics: Chapter 1](https://neuronaldynamics.epfl.ch/book.html)"
   ]
  }
 ],
 "metadata": {
  "kernelspec": {
   "display_name": "Python 3",
   "language": "python",
   "name": "python3"
  },
  "language_info": {
   "codemirror_mode": {
    "name": "ipython",
    "version": 3
   },
   "file_extension": ".py",
   "mimetype": "text/x-python",
   "name": "python",
   "nbconvert_exporter": "python",
   "pygments_lexer": "ipython3",
   "version": "3.6.9"
  }
 },
 "nbformat": 4,
 "nbformat_minor": 2
}
